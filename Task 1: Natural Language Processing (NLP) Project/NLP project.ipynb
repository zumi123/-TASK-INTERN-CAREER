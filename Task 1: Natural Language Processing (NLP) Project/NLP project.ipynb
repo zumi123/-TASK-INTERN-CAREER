{
 "cells": [
  {
   "cell_type": "code",
   "execution_count": 1,
   "id": "625093a4",
   "metadata": {},
   "outputs": [],
   "source": [
    "import pandas as pd\n",
    "import numpy as np\n",
    "from sklearn.model_selection import train_test_split\n",
    "import tensorflow as tf\n",
    "from tensorflow.keras.preprocessing.text import Tokenizer\n",
    "from tensorflow.keras.preprocessing.sequence import pad_sequences\n",
    "from tensorflow.keras.models import Sequential\n",
    "from tensorflow.keras.layers import Dense, Embedding, LSTM, SpatialDropout1D\n",
    "from sklearn.metrics import confusion_matrix, classification_report\n",
    "import matplotlib\n",
    "import matplotlib.pyplot as plt\n",
    "import seaborn as sns\n",
    "sns.set_style('darkgrid')\n",
    "from warnings import filterwarnings\n",
    "filterwarnings('ignore')"
   ]
  },
  {
   "cell_type": "code",
   "execution_count": 2,
   "id": "653e22f7",
   "metadata": {},
   "outputs": [
    {
     "name": "stderr",
     "output_type": "stream",
     "text": [
      "[nltk_data] Downloading package stopwords to\n",
      "[nltk_data]     C:\\Users\\user\\AppData\\Roaming\\nltk_data...\n",
      "[nltk_data]   Package stopwords is already up-to-date!\n"
     ]
    }
   ],
   "source": [
    "import nltk\n",
    "nltk.download('stopwords')\n",
    "from nltk.corpus import stopwords"
   ]
  },
  {
   "cell_type": "code",
   "execution_count": 3,
   "id": "193cd9cb",
   "metadata": {},
   "outputs": [
    {
     "name": "stderr",
     "output_type": "stream",
     "text": [
      "[nltk_data] Downloading package wordnet to\n",
      "[nltk_data]     C:\\Users\\user\\AppData\\Roaming\\nltk_data...\n",
      "[nltk_data]   Package wordnet is already up-to-date!\n"
     ]
    },
    {
     "data": {
      "text/plain": [
       "True"
      ]
     },
     "execution_count": 3,
     "metadata": {},
     "output_type": "execute_result"
    }
   ],
   "source": [
    "from textblob import Word\n",
    "nltk.download('wordnet')"
   ]
  },
  {
   "cell_type": "code",
   "execution_count": 4,
   "id": "6b07d460",
   "metadata": {},
   "outputs": [],
   "source": [
    "df = pd.read_csv(r\"Z:\\AAIT\\NLP\\tweeter/train.csv\")"
   ]
  },
  {
   "cell_type": "code",
   "execution_count": 14,
   "id": "9e3d2ce9",
   "metadata": {
    "scrolled": true
   },
   "outputs": [
    {
     "data": {
      "text/html": [
       "<style type=\"text/css\">\n",
       "#T_b5a82_row0_col0 {\n",
       "  background-color: #42a6cc;\n",
       "  color: #f1f1f1;\n",
       "}\n",
       "#T_b5a82_row0_col1, #T_b5a82_row1_col1, #T_b5a82_row2_col1, #T_b5a82_row4_col1, #T_b5a82_row5_col0, #T_b5a82_row5_col1, #T_b5a82_row6_col1, #T_b5a82_row7_col1, #T_b5a82_row9_col1 {\n",
       "  background-color: #f7fcf0;\n",
       "  color: #000000;\n",
       "}\n",
       "#T_b5a82_row1_col0 {\n",
       "  background-color: #bbe4bd;\n",
       "  color: #000000;\n",
       "}\n",
       "#T_b5a82_row2_col0 {\n",
       "  background-color: #0f6faf;\n",
       "  color: #f1f1f1;\n",
       "}\n",
       "#T_b5a82_row3_col0 {\n",
       "  background-color: #9ed9b8;\n",
       "  color: #000000;\n",
       "}\n",
       "#T_b5a82_row3_col1, #T_b5a82_row8_col1, #T_b5a82_row9_col0 {\n",
       "  background-color: #084081;\n",
       "  color: #f1f1f1;\n",
       "}\n",
       "#T_b5a82_row4_col0 {\n",
       "  background-color: #41a5cb;\n",
       "  color: #f1f1f1;\n",
       "}\n",
       "#T_b5a82_row6_col0 {\n",
       "  background-color: #0864a8;\n",
       "  color: #f1f1f1;\n",
       "}\n",
       "#T_b5a82_row7_col0 {\n",
       "  background-color: #97d6bb;\n",
       "  color: #000000;\n",
       "}\n",
       "#T_b5a82_row8_col0 {\n",
       "  background-color: #83cfc1;\n",
       "  color: #000000;\n",
       "}\n",
       "</style>\n",
       "<table id=\"T_b5a82_\">\n",
       "  <thead>\n",
       "    <tr>\n",
       "      <th class=\"blank level0\" >&nbsp;</th>\n",
       "      <th class=\"col_heading level0 col0\" >id</th>\n",
       "      <th class=\"col_heading level0 col1\" >label</th>\n",
       "      <th class=\"col_heading level0 col2\" >tweet</th>\n",
       "    </tr>\n",
       "  </thead>\n",
       "  <tbody>\n",
       "    <tr>\n",
       "      <th id=\"T_b5a82_level0_row0\" class=\"row_heading level0 row0\" >20128</th>\n",
       "      <td id=\"T_b5a82_row0_col0\" class=\"data row0 col0\" >20129</td>\n",
       "      <td id=\"T_b5a82_row0_col1\" class=\"data row0 col1\" >0</td>\n",
       "      <td id=\"T_b5a82_row0_col2\" class=\"data row0 col2\" >throwback to   time ð at #stagustinechurch #philippines #laoag #nohilocos #ilocosnoe ð </td>\n",
       "    </tr>\n",
       "    <tr>\n",
       "      <th id=\"T_b5a82_level0_row1\" class=\"row_heading level0 row1\" >10216</th>\n",
       "      <td id=\"T_b5a82_row1_col0\" class=\"data row1 col0\" >10217</td>\n",
       "      <td id=\"T_b5a82_row1_col1\" class=\"data row1 col1\" >0</td>\n",
       "      <td id=\"T_b5a82_row1_col2\" class=\"data row1 col2\" >it makes me mad that superstars like @user and @user haven't express any type of unity towards the gay community on this tragedy.  </td>\n",
       "    </tr>\n",
       "    <tr>\n",
       "      <th id=\"T_b5a82_level0_row2\" class=\"row_heading level0 row2\" >25301</th>\n",
       "      <td id=\"T_b5a82_row2_col0\" class=\"data row2 col0\" >25302</td>\n",
       "      <td id=\"T_b5a82_row2_col1\" class=\"data row2 col1\" >0</td>\n",
       "      <td id=\"T_b5a82_row2_col2\" class=\"data row2 col2\" >happy at work c.onference: right mindset leads to culture-of-development organizations    #work #mindset</td>\n",
       "    </tr>\n",
       "    <tr>\n",
       "      <th id=\"T_b5a82_level0_row3\" class=\"row_heading level0 row3\" >12825</th>\n",
       "      <td id=\"T_b5a82_row3_col0\" class=\"data row3 col0\" >12826</td>\n",
       "      <td id=\"T_b5a82_row3_col1\" class=\"data row3 col1\" >1</td>\n",
       "      <td id=\"T_b5a82_row3_col2\" class=\"data row3 col2\" >how did women fair in 2016?  </td>\n",
       "    </tr>\n",
       "    <tr>\n",
       "      <th id=\"T_b5a82_level0_row4\" class=\"row_heading level0 row4\" >20264</th>\n",
       "      <td id=\"T_b5a82_row4_col0\" class=\"data row4 col0\" >20265</td>\n",
       "      <td id=\"T_b5a82_row4_col1\" class=\"data row4 col1\" >0</td>\n",
       "      <td id=\"T_b5a82_row4_col2\" class=\"data row4 col2\" >life is #great and one is truly #grateful! thank you! thank you! thank you! #goodthings #goodtimes #loa #blessed   #believeinmagic</td>\n",
       "    </tr>\n",
       "    <tr>\n",
       "      <th id=\"T_b5a82_level0_row5\" class=\"row_heading level0 row5\" >1533</th>\n",
       "      <td id=\"T_b5a82_row5_col0\" class=\"data row5 col0\" >1534</td>\n",
       "      <td id=\"T_b5a82_row5_col1\" class=\"data row5 col1\" >0</td>\n",
       "      <td id=\"T_b5a82_row5_col2\" class=\"data row5 col2\" >_  #windows10 split screen #browser! #techie     #sgig  301</td>\n",
       "    </tr>\n",
       "    <tr>\n",
       "      <th id=\"T_b5a82_level0_row6\" class=\"row_heading level0 row6\" >26297</th>\n",
       "      <td id=\"T_b5a82_row6_col0\" class=\"data row6 col0\" >26298</td>\n",
       "      <td id=\"T_b5a82_row6_col1\" class=\"data row6 col1\" >0</td>\n",
       "      <td id=\"T_b5a82_row6_col2\" class=\"data row6 col2\" >@user @user @user @user @user #mohenjodaro in theatres #august12th2016  ! </td>\n",
       "    </tr>\n",
       "    <tr>\n",
       "      <th id=\"T_b5a82_level0_row7\" class=\"row_heading level0 row7\" >13396</th>\n",
       "      <td id=\"T_b5a82_row7_col0\" class=\"data row7 col0\" >13397</td>\n",
       "      <td id=\"T_b5a82_row7_col1\" class=\"data row7 col1\" >0</td>\n",
       "      <td id=\"T_b5a82_row7_col2\" class=\"data row7 col2\" >there is a future nina and right now you are pretty much throwing yours away. </td>\n",
       "    </tr>\n",
       "    <tr>\n",
       "      <th id=\"T_b5a82_level0_row8\" class=\"row_heading level0 row8\" >14915</th>\n",
       "      <td id=\"T_b5a82_row8_col0\" class=\"data row8 col0\" >14916</td>\n",
       "      <td id=\"T_b5a82_row8_col1\" class=\"data row8 col1\" >1</td>\n",
       "      <td id=\"T_b5a82_row8_col2\" class=\"data row8 col2\" >#share i never been thoughj experience  &amp; i never looked at caucasians any differently ~ watch this  </td>\n",
       "    </tr>\n",
       "    <tr>\n",
       "      <th id=\"T_b5a82_level0_row9\" class=\"row_heading level0 row9\" >29505</th>\n",
       "      <td id=\"T_b5a82_row9_col0\" class=\"data row9 col0\" >29506</td>\n",
       "      <td id=\"T_b5a82_row9_col1\" class=\"data row9 col1\" >0</td>\n",
       "      <td id=\"T_b5a82_row9_col2\" class=\"data row9 col2\" >love him more than anything     </td>\n",
       "    </tr>\n",
       "  </tbody>\n",
       "</table>\n"
      ],
      "text/plain": [
       "<pandas.io.formats.style.Styler at 0x1a1023b88d0>"
      ]
     },
     "execution_count": 14,
     "metadata": {},
     "output_type": "execute_result"
    }
   ],
   "source": [
    "df.sample(n = 10).style.background_gradient(cmap = \"GnBu\")"
   ]
  },
  {
   "cell_type": "code",
   "execution_count": 15,
   "id": "85ef9b1f",
   "metadata": {},
   "outputs": [
    {
     "name": "stdout",
     "output_type": "stream",
     "text": [
      "Shape of the data: (31962, 3)\n"
     ]
    }
   ],
   "source": [
    "print(\"Shape of the data:\",df.shape)"
   ]
  },
  {
   "cell_type": "code",
   "execution_count": 16,
   "id": "b2cc6f3f",
   "metadata": {},
   "outputs": [
    {
     "data": {
      "text/plain": [
       "Index(['id', 'label', 'tweet'], dtype='object')"
      ]
     },
     "execution_count": 16,
     "metadata": {},
     "output_type": "execute_result"
    }
   ],
   "source": [
    "df.columns"
   ]
  },
  {
   "cell_type": "code",
   "execution_count": 17,
   "id": "f6f3e7e5",
   "metadata": {},
   "outputs": [
    {
     "name": "stdout",
     "output_type": "stream",
     "text": [
      "<class 'pandas.core.frame.DataFrame'>\n",
      "RangeIndex: 31962 entries, 0 to 31961\n",
      "Data columns (total 3 columns):\n",
      " #   Column  Non-Null Count  Dtype \n",
      "---  ------  --------------  ----- \n",
      " 0   id      31962 non-null  int64 \n",
      " 1   label   31962 non-null  int64 \n",
      " 2   tweet   31962 non-null  object\n",
      "dtypes: int64(2), object(1)\n",
      "memory usage: 749.2+ KB\n"
     ]
    }
   ],
   "source": [
    "df.info()"
   ]
  },
  {
   "cell_type": "code",
   "execution_count": 22,
   "id": "5b91fa71",
   "metadata": {},
   "outputs": [
    {
     "name": "stdout",
     "output_type": "stream",
     "text": [
      "Total null values:\n",
      " id       0\n",
      "label    0\n",
      "tweet    0\n",
      "dtype: int64\n"
     ]
    }
   ],
   "source": [
    "print(\"Total null values:\\n\",df.isnull().sum())"
   ]
  },
  {
   "cell_type": "code",
   "execution_count": 24,
   "id": "e5b49df2",
   "metadata": {},
   "outputs": [
    {
     "name": "stdout",
     "output_type": "stream",
     "text": [
      "Total duplicate values: 0\n"
     ]
    }
   ],
   "source": [
    "print(\"Total duplicate values:\",df.duplicated().sum())"
   ]
  },
  {
   "cell_type": "code",
   "execution_count": 25,
   "id": "78dbb839",
   "metadata": {},
   "outputs": [],
   "source": [
    "# Function to clean and preprocess text\n",
    "def preprocess_text(data):\n",
    "    # Convert letters to lowercase\n",
    "    data['tweet'] = data['tweet'].str.lower().str.split().str.join(' ')\n",
    "    \n",
    "    #Delete punctuation marks \n",
    "    data[\"tweet\"] = data[\"tweet\"].str.replace('[^\\w\\s]','')\n",
    "    \n",
    "    #Delete numbers \n",
    "    data['tweet'] = data['tweet'].str.replace('\\d','')\n",
    "    \n",
    "    #Delete stopwords \n",
    "    sw = stopwords.words(\"english\")\n",
    "    data['tweet'] = [' '.join(word for word in tweet.split() if word not in sw) for tweet in data['tweet']]\n",
    "    \n",
    "    #Lemmatization\n",
    "    data['tweet'] = data['tweet'].apply(lambda x: \" \".join([Word(word).lemmatize() for word in x.split()]))\n",
    "    \n",
    "    print(\"Letters are converted to lowecase, and punctuation marks, numbers and stopwords deleted succesfully\")\n",
    "  \n",
    "    return data"
   ]
  },
  {
   "cell_type": "code",
   "execution_count": 26,
   "id": "efffcbd4",
   "metadata": {},
   "outputs": [
    {
     "name": "stdout",
     "output_type": "stream",
     "text": [
      "Letters are converted to lowecase, and punctuation marks, numbers and stopwords deleted succesfully\n"
     ]
    }
   ],
   "source": [
    "preprocessed_text_set = preprocess_text(df)"
   ]
  },
  {
   "cell_type": "code",
   "execution_count": 27,
   "id": "54f6514f",
   "metadata": {},
   "outputs": [
    {
     "data": {
      "text/html": [
       "<style type=\"text/css\">\n",
       "#T_f2d9d_row0_col0 {\n",
       "  background-color: #bce5be;\n",
       "  color: #000000;\n",
       "}\n",
       "#T_f2d9d_row0_col1, #T_f2d9d_row1_col1, #T_f2d9d_row2_col1, #T_f2d9d_row3_col1, #T_f2d9d_row4_col1, #T_f2d9d_row5_col1, #T_f2d9d_row7_col1, #T_f2d9d_row8_col1, #T_f2d9d_row9_col1, #T_f2d9d_row10_col1, #T_f2d9d_row11_col1, #T_f2d9d_row12_col1, #T_f2d9d_row13_col1, #T_f2d9d_row14_col1, #T_f2d9d_row15_col1, #T_f2d9d_row16_col1, #T_f2d9d_row17_col0, #T_f2d9d_row17_col1, #T_f2d9d_row18_col1, #T_f2d9d_row19_col1 {\n",
       "  background-color: #f7fcf0;\n",
       "  color: #000000;\n",
       "}\n",
       "#T_f2d9d_row1_col0 {\n",
       "  background-color: #6cc4c9;\n",
       "  color: #000000;\n",
       "}\n",
       "#T_f2d9d_row2_col0, #T_f2d9d_row6_col1 {\n",
       "  background-color: #084081;\n",
       "  color: #f1f1f1;\n",
       "}\n",
       "#T_f2d9d_row3_col0 {\n",
       "  background-color: #c5e8c2;\n",
       "  color: #000000;\n",
       "}\n",
       "#T_f2d9d_row4_col0 {\n",
       "  background-color: #0867ab;\n",
       "  color: #f1f1f1;\n",
       "}\n",
       "#T_f2d9d_row5_col0 {\n",
       "  background-color: #3ea1c9;\n",
       "  color: #f1f1f1;\n",
       "}\n",
       "#T_f2d9d_row6_col0 {\n",
       "  background-color: #e9f7e3;\n",
       "  color: #000000;\n",
       "}\n",
       "#T_f2d9d_row7_col0 {\n",
       "  background-color: #72c7c7;\n",
       "  color: #000000;\n",
       "}\n",
       "#T_f2d9d_row8_col0 {\n",
       "  background-color: #dff3da;\n",
       "  color: #000000;\n",
       "}\n",
       "#T_f2d9d_row9_col0 {\n",
       "  background-color: #48accf;\n",
       "  color: #f1f1f1;\n",
       "}\n",
       "#T_f2d9d_row10_col0 {\n",
       "  background-color: #57b8d0;\n",
       "  color: #000000;\n",
       "}\n",
       "#T_f2d9d_row11_col0 {\n",
       "  background-color: #f4fbed;\n",
       "  color: #000000;\n",
       "}\n",
       "#T_f2d9d_row12_col0 {\n",
       "  background-color: #e4f4de;\n",
       "  color: #000000;\n",
       "}\n",
       "#T_f2d9d_row13_col0 {\n",
       "  background-color: #eaf7e4;\n",
       "  color: #000000;\n",
       "}\n",
       "#T_f2d9d_row14_col0 {\n",
       "  background-color: #389bc6;\n",
       "  color: #f1f1f1;\n",
       "}\n",
       "#T_f2d9d_row15_col0 {\n",
       "  background-color: #9cd9b9;\n",
       "  color: #000000;\n",
       "}\n",
       "#T_f2d9d_row16_col0 {\n",
       "  background-color: #3192c1;\n",
       "  color: #f1f1f1;\n",
       "}\n",
       "#T_f2d9d_row18_col0 {\n",
       "  background-color: #084f91;\n",
       "  color: #f1f1f1;\n",
       "}\n",
       "#T_f2d9d_row19_col0 {\n",
       "  background-color: #f3fbed;\n",
       "  color: #000000;\n",
       "}\n",
       "</style>\n",
       "<table id=\"T_f2d9d_\">\n",
       "  <thead>\n",
       "    <tr>\n",
       "      <th class=\"blank level0\" >&nbsp;</th>\n",
       "      <th class=\"col_heading level0 col0\" >id</th>\n",
       "      <th class=\"col_heading level0 col1\" >label</th>\n",
       "      <th class=\"col_heading level0 col2\" >tweet</th>\n",
       "    </tr>\n",
       "  </thead>\n",
       "  <tbody>\n",
       "    <tr>\n",
       "      <th id=\"T_f2d9d_level0_row0\" class=\"row_heading level0 row0\" >11460</th>\n",
       "      <td id=\"T_f2d9d_row0_col0\" class=\"data row0 col0\" >11461</td>\n",
       "      <td id=\"T_f2d9d_row0_col1\" class=\"data row0 col1\" >0</td>\n",
       "      <td id=\"T_f2d9d_row0_col2\" class=\"data row0 col2\" >user needlefelted taylor cervivintage via etsy tailor seamtress sew needleandthreadâ</td>\n",
       "    </tr>\n",
       "    <tr>\n",
       "      <th id=\"T_f2d9d_level0_row1\" class=\"row_heading level0 row1\" >18148</th>\n",
       "      <td id=\"T_f2d9d_row1_col0\" class=\"data row1 col0\" >18149</td>\n",
       "      <td id=\"T_f2d9d_row1_col1\" class=\"data row1 col1\" >0</td>\n",
       "      <td id=\"T_f2d9d_row1_col2\" class=\"data row1 col2\" >thankful hope thankful positive</td>\n",
       "    </tr>\n",
       "    <tr>\n",
       "      <th id=\"T_f2d9d_level0_row2\" class=\"row_heading level0 row2\" >31225</th>\n",
       "      <td id=\"T_f2d9d_row2_col0\" class=\"data row2 col0\" >31226</td>\n",
       "      <td id=\"T_f2d9d_row2_col1\" class=\"data row2 col1\" >0</td>\n",
       "      <td id=\"T_f2d9d_row2_col2\" class=\"data row2 col2\" >ok gerard way comic con noh carolina november know im noh carolina comiccon</td>\n",
       "    </tr>\n",
       "    <tr>\n",
       "      <th id=\"T_f2d9d_level0_row3\" class=\"row_heading level0 row3\" >10582</th>\n",
       "      <td id=\"T_f2d9d_row3_col0\" class=\"data row3 col0\" >10583</td>\n",
       "      <td id=\"T_f2d9d_row3_col1\" class=\"data row3 col1\" >0</td>\n",
       "      <td id=\"T_f2d9d_row3_col2\" class=\"data row3 col2\" >looking forward dinner user evening food drink</td>\n",
       "    </tr>\n",
       "    <tr>\n",
       "      <th id=\"T_f2d9d_level0_row4\" class=\"row_heading level0 row4\" >27674</th>\n",
       "      <td id=\"T_f2d9d_row4_col0\" class=\"data row4 col0\" >27675</td>\n",
       "      <td id=\"T_f2d9d_row4_col1\" class=\"data row4 col1\" >0</td>\n",
       "      <td id=\"T_f2d9d_row4_col2\" class=\"data row4 col2\" >contwhen jehovah say yes receive day life grateful turningpoint success willshare news later</td>\n",
       "    </tr>\n",
       "    <tr>\n",
       "      <th id=\"T_f2d9d_level0_row5\" class=\"row_heading level0 row5\" >22142</th>\n",
       "      <td id=\"T_f2d9d_row5_col0\" class=\"data row5 col0\" >22143</td>\n",
       "      <td id=\"T_f2d9d_row5_col1\" class=\"data row5 col1\" >0</td>\n",
       "      <td id=\"T_f2d9d_row5_col2\" class=\"data row5 col2\" >moment press â tweet</td>\n",
       "    </tr>\n",
       "    <tr>\n",
       "      <th id=\"T_f2d9d_level0_row6\" class=\"row_heading level0 row6\" >4877</th>\n",
       "      <td id=\"T_f2d9d_row6_col0\" class=\"data row6 col0\" >4878</td>\n",
       "      <td id=\"T_f2d9d_row6_col1\" class=\"data row6 col1\" >1</td>\n",
       "      <td id=\"T_f2d9d_row6_col2\" class=\"data row6 col2\" >user one mil american rejected bigotry amp hatred fly flag half mast janâ</td>\n",
       "    </tr>\n",
       "    <tr>\n",
       "      <th id=\"T_f2d9d_level0_row7\" class=\"row_heading level0 row7\" >17670</th>\n",
       "      <td id=\"T_f2d9d_row7_col0\" class=\"data row7 col0\" >17671</td>\n",
       "      <td id=\"T_f2d9d_row7_col1\" class=\"data row7 col1\" >0</td>\n",
       "      <td id=\"T_f2d9d_row7_col2\" class=\"data row7 col2\" >waterfight way keep cool summer child kid family smile instakidsâ</td>\n",
       "    </tr>\n",
       "    <tr>\n",
       "      <th id=\"T_f2d9d_level0_row8\" class=\"row_heading level0 row8\" >6407</th>\n",
       "      <td id=\"T_f2d9d_row8_col0\" class=\"data row8 col0\" >6408</td>\n",
       "      <td id=\"T_f2d9d_row8_col1\" class=\"data row8 col1\" >0</td>\n",
       "      <td id=\"T_f2d9d_row8_col2\" class=\"data row8 col2\" >user weee haha</td>\n",
       "    </tr>\n",
       "    <tr>\n",
       "      <th id=\"T_f2d9d_level0_row9\" class=\"row_heading level0 row9\" >21176</th>\n",
       "      <td id=\"T_f2d9d_row9_col0\" class=\"data row9 col0\" >21177</td>\n",
       "      <td id=\"T_f2d9d_row9_col1\" class=\"data row9 col1\" >0</td>\n",
       "      <td id=\"T_f2d9d_row9_col2\" class=\"data row9 col2\" >watchinglistening user since netflix special made laugh hard original stuff ð</td>\n",
       "    </tr>\n",
       "    <tr>\n",
       "      <th id=\"T_f2d9d_level0_row10\" class=\"row_heading level0 row10\" >19828</th>\n",
       "      <td id=\"T_f2d9d_row10_col0\" class=\"data row10 col0\" >19829</td>\n",
       "      <td id=\"T_f2d9d_row10_col1\" class=\"data row10 col1\" >0</td>\n",
       "      <td id=\"T_f2d9d_row10_col2\" class=\"data row10 col2\" >snapchat stop updating please like leave way month u go change confused swag</td>\n",
       "    </tr>\n",
       "    <tr>\n",
       "      <th id=\"T_f2d9d_level0_row11\" class=\"row_heading level0 row11\" >3205</th>\n",
       "      <td id=\"T_f2d9d_row11_col0\" class=\"data row11 col0\" >3206</td>\n",
       "      <td id=\"T_f2d9d_row11_col1\" class=\"data row11 col1\" >0</td>\n",
       "      <td id=\"T_f2d9d_row11_col2\" class=\"data row11 col2\" >user condolence go people orlando pulseclub lgbtq imwithyou</td>\n",
       "    </tr>\n",
       "    <tr>\n",
       "      <th id=\"T_f2d9d_level0_row12\" class=\"row_heading level0 row12\" >5810</th>\n",
       "      <td id=\"T_f2d9d_row12_col0\" class=\"data row12 col0\" >5811</td>\n",
       "      <td id=\"T_f2d9d_row12_col1\" class=\"data row12 col1\" >0</td>\n",
       "      <td id=\"T_f2d9d_row12_col2\" class=\"data row12 col2\" >user juneseventhsixteen user anime manga original digital draw imagination</td>\n",
       "    </tr>\n",
       "    <tr>\n",
       "      <th id=\"T_f2d9d_level0_row13\" class=\"row_heading level0 row13\" >4729</th>\n",
       "      <td id=\"T_f2d9d_row13_col0\" class=\"data row13 col0\" >4730</td>\n",
       "      <td id=\"T_f2d9d_row13_col1\" class=\"data row13 col1\" >0</td>\n",
       "      <td id=\"T_f2d9d_row13_col2\" class=\"data row13 col2\" >dad therehappy father day fathersday dad thankyou</td>\n",
       "    </tr>\n",
       "    <tr>\n",
       "      <th id=\"T_f2d9d_level0_row14\" class=\"row_heading level0 row14\" >22738</th>\n",
       "      <td id=\"T_f2d9d_row14_col0\" class=\"data row14 col0\" >22739</td>\n",
       "      <td id=\"T_f2d9d_row14_col1\" class=\"data row14 col1\" >0</td>\n",
       "      <td id=\"T_f2d9d_row14_col2\" class=\"data row14 col2\" >welcome classof user barnsleyisbrill transition aspire</td>\n",
       "    </tr>\n",
       "    <tr>\n",
       "      <th id=\"T_f2d9d_level0_row15\" class=\"row_heading level0 row15\" >14327</th>\n",
       "      <td id=\"T_f2d9d_row15_col0\" class=\"data row15 col0\" >14328</td>\n",
       "      <td id=\"T_f2d9d_row15_col1\" class=\"data row15 col1\" >0</td>\n",
       "      <td id=\"T_f2d9d_row15_col2\" class=\"data row15 col2\" >user sabes que user amp youre selling lowiq baboso weakass l chimpo stereotype american</td>\n",
       "    </tr>\n",
       "    <tr>\n",
       "      <th id=\"T_f2d9d_level0_row16\" class=\"row_heading level0 row16\" >23527</th>\n",
       "      <td id=\"T_f2d9d_row16_col0\" class=\"data row16 col0\" >23528</td>\n",
       "      <td id=\"T_f2d9d_row16_col1\" class=\"data row16 col1\" >0</td>\n",
       "      <td id=\"T_f2d9d_row16_col2\" class=\"data row16 col2\" >hope everyone awesome time drink awesome shooter sits around soak others awesomeness</td>\n",
       "    </tr>\n",
       "    <tr>\n",
       "      <th id=\"T_f2d9d_level0_row17\" class=\"row_heading level0 row17\" >2720</th>\n",
       "      <td id=\"T_f2d9d_row17_col0\" class=\"data row17 col0\" >2721</td>\n",
       "      <td id=\"T_f2d9d_row17_col1\" class=\"data row17 col1\" >0</td>\n",
       "      <td id=\"T_f2d9d_row17_col2\" class=\"data row17 col2\" >sexysaturday upcoming viual love quote teaser reading amwriting erotica novella</td>\n",
       "    </tr>\n",
       "    <tr>\n",
       "      <th id=\"T_f2d9d_level0_row18\" class=\"row_heading level0 row18\" >29827</th>\n",
       "      <td id=\"T_f2d9d_row18_col0\" class=\"data row18 col0\" >29828</td>\n",
       "      <td id=\"T_f2d9d_row18_col1\" class=\"data row18 col1\" >0</td>\n",
       "      <td id=\"T_f2d9d_row18_col2\" class=\"data row18 col2\" >user user user really hope cant deal ðbut friggin excited iv got oitnb back</td>\n",
       "    </tr>\n",
       "    <tr>\n",
       "      <th id=\"T_f2d9d_level0_row19\" class=\"row_heading level0 row19\" >3347</th>\n",
       "      <td id=\"T_f2d9d_row19_col0\" class=\"data row19 col0\" >3348</td>\n",
       "      <td id=\"T_f2d9d_row19_col1\" class=\"data row19 col1\" >0</td>\n",
       "      <td id=\"T_f2d9d_row19_col2\" class=\"data row19 col2\" >ready user iowfestival tomorrow</td>\n",
       "    </tr>\n",
       "  </tbody>\n",
       "</table>\n"
      ],
      "text/plain": [
       "<pandas.io.formats.style.Styler at 0x1a1024379b0>"
      ]
     },
     "execution_count": 27,
     "metadata": {},
     "output_type": "execute_result"
    }
   ],
   "source": [
    "preprocessed_text_set.sample(n = 20).style.background_gradient(cmap = \"GnBu\")"
   ]
  },
  {
   "cell_type": "code",
   "execution_count": 28,
   "id": "dc0694b1",
   "metadata": {},
   "outputs": [],
   "source": [
    "x = preprocessed_text_set[\"tweet\"]\n",
    "y = preprocessed_text_set[\"label\"]\n",
    "\n",
    "x_train, x_test, y_train, y_test = train_test_split(x, y, test_size = 0.20, shuffle = True, random_state = 11)"
   ]
  },
  {
   "cell_type": "code",
   "execution_count": 29,
   "id": "74b3dc64",
   "metadata": {},
   "outputs": [
    {
     "name": "stdout",
     "output_type": "stream",
     "text": [
      "x_train shape: (25569,)\n",
      "x_test shape: (6393,)\n",
      "y_train shape: (25569,)\n",
      "y_test shape: (6393,)\n"
     ]
    }
   ],
   "source": [
    "print(\"x_train shape:\", x_train.shape)\n",
    "print(\"x_test shape:\", x_test.shape)\n",
    "print(\"y_train shape:\", y_train.shape)\n",
    "print(\"y_test shape:\", y_test.shape)"
   ]
  },
  {
   "cell_type": "code",
   "execution_count": 30,
   "id": "243a32e5",
   "metadata": {},
   "outputs": [],
   "source": [
    "# Tokenize text data\n",
    "max_features = 10000  # Vocabulary size\n",
    "max_tweet_length = 50  # Maximum tweet length\n",
    "\n",
    "tokenizer = Tokenizer(num_words=max_features, split=' ')\n",
    "tokenizer.fit_on_texts(x_train)  \n",
    "\n",
    "# Convert text to sequences and pad them to ensure uniform length\n",
    "X_train = tokenizer.texts_to_sequences(x_train)\n",
    "X_train = pad_sequences(X_train, maxlen=max_tweet_length)\n",
    "\n",
    "X_test = tokenizer.texts_to_sequences(x_test)\n",
    "X_test = pad_sequences(X_test, maxlen=max_tweet_length)\n"
   ]
  },
  {
   "cell_type": "code",
   "execution_count": 31,
   "id": "728530fa",
   "metadata": {},
   "outputs": [
    {
     "name": "stdout",
     "output_type": "stream",
     "text": [
      "Model: \"sequential\"\n",
      "_________________________________________________________________\n",
      " Layer (type)                Output Shape              Param #   \n",
      "=================================================================\n",
      " embedding (Embedding)       (None, 50, 128)           1280000   \n",
      "                                                                 \n",
      " spatial_dropout1d (SpatialD  (None, 50, 128)          0         \n",
      " ropout1D)                                                       \n",
      "                                                                 \n",
      " lstm (LSTM)                 (None, 196)               254800    \n",
      "                                                                 \n",
      " dense (Dense)               (None, 1)                 197       \n",
      "                                                                 \n",
      "=================================================================\n",
      "Total params: 1,534,997\n",
      "Trainable params: 1,534,997\n",
      "Non-trainable params: 0\n",
      "_________________________________________________________________\n",
      "None\n"
     ]
    }
   ],
   "source": [
    "# Model parameters\n",
    "embed_dim = 128  # Embedding dimensionality\n",
    "lstm_out = 196  # LSTM output dimension\n",
    "\n",
    "# Build the model\n",
    "model = Sequential()\n",
    "model.add(Embedding(max_features, embed_dim, input_length=max_tweet_length))\n",
    "model.add(SpatialDropout1D(0.4))\n",
    "model.add(LSTM(lstm_out, dropout=0.2, recurrent_dropout=0.2))\n",
    "model.add(Dense(1, activation='sigmoid')) \n",
    "\n",
    "model.compile(loss='binary_crossentropy', optimizer='adam', metrics=['accuracy'])\n",
    "print(model.summary())"
   ]
  },
  {
   "cell_type": "code",
   "execution_count": 32,
   "id": "5eaa938d",
   "metadata": {},
   "outputs": [
    {
     "name": "stdout",
     "output_type": "stream",
     "text": [
      "Epoch 1/10\n",
      "800/800 - 277s - loss: 0.1669 - accuracy: 0.9464 - 277s/epoch - 346ms/step\n",
      "Epoch 2/10\n",
      "800/800 - 238s - loss: 0.0840 - accuracy: 0.9717 - 238s/epoch - 298ms/step\n",
      "Epoch 3/10\n",
      "800/800 - 226s - loss: 0.0613 - accuracy: 0.9794 - 226s/epoch - 282ms/step\n",
      "Epoch 4/10\n",
      "800/800 - 224s - loss: 0.0469 - accuracy: 0.9840 - 224s/epoch - 280ms/step\n",
      "Epoch 5/10\n",
      "800/800 - 224s - loss: 0.0347 - accuracy: 0.9881 - 224s/epoch - 280ms/step\n",
      "Epoch 6/10\n",
      "800/800 - 224s - loss: 0.0255 - accuracy: 0.9917 - 224s/epoch - 280ms/step\n",
      "Epoch 7/10\n",
      "800/800 - 223s - loss: 0.0202 - accuracy: 0.9939 - 223s/epoch - 278ms/step\n",
      "Epoch 8/10\n",
      "800/800 - 222s - loss: 0.0143 - accuracy: 0.9953 - 222s/epoch - 277ms/step\n",
      "Epoch 9/10\n",
      "800/800 - 223s - loss: 0.0123 - accuracy: 0.9958 - 223s/epoch - 279ms/step\n",
      "Epoch 10/10\n",
      "800/800 - 222s - loss: 0.0096 - accuracy: 0.9968 - 222s/epoch - 277ms/step\n",
      "200/200 - 8s - loss: 0.2600 - accuracy: 0.9531 - 8s/epoch - 40ms/step\n",
      "Score: 0.26\n",
      "Accuracy: 0.95\n"
     ]
    }
   ],
   "source": [
    "# Fit the model\n",
    "batch_size = 32\n",
    "model.fit(X_train, y_train, epochs=10, batch_size=batch_size, verbose=2)\n",
    "# Evaluate the model\n",
    "score, acc = model.evaluate(X_test, y_test, verbose=2, batch_size=batch_size) \n",
    "print(\"Score: {:.2f}\".format(score))\n",
    "print(\"Accuracy: {:.2f}\".format(acc))"
   ]
  },
  {
   "cell_type": "code",
   "execution_count": 33,
   "id": "bb66a28a",
   "metadata": {},
   "outputs": [
    {
     "name": "stdout",
     "output_type": "stream",
     "text": [
      "200/200 [==============================] - 9s 44ms/step\n"
     ]
    },
    {
     "data": {
      "image/png": "[encoded data removed]",
      "text/plain": [
       "<Figure size 400x400 with 1 Axes>"
      ]
     },
     "metadata": {},
     "output_type": "display_data"
    },
    {
     "name": "stdout",
     "output_type": "stream",
     "text": [
      "Classification Report:\n",
      "----------------------\n",
      "               precision    recall  f1-score   support\n",
      "\n",
      "           0     0.9711    0.9784    0.9747      5915\n",
      "           1     0.7051    0.6402    0.6711       478\n",
      "\n",
      "    accuracy                         0.9531      6393\n",
      "   macro avg     0.8381    0.8093    0.8229      6393\n",
      "weighted avg     0.9512    0.9531    0.9520      6393\n",
      "\n"
     ]
    }
   ],
   "source": [
    "# Predicting the Test set results\n",
    "y_pred = model.predict(X_test)\n",
    "y_pred = (y_pred > 0.5)\n",
    "\n",
    "# Making the Confusion Matrix\n",
    "cm = confusion_matrix(y_test, y_pred)\n",
    " \n",
    "# plot the confusion matrix\n",
    "class_count = 2 \n",
    "plt.figure(figsize=(4, 4))\n",
    "sns.heatmap(cm, annot=True, vmin=0, fmt='g', cmap='Blues', cbar=False)       \n",
    "plt.xticks(np.arange(class_count)+.5, rotation=90)\n",
    "plt.yticks(np.arange(class_count)+.5, rotation=0)\n",
    "plt.xlabel(\"Predicted\")\n",
    "plt.ylabel(\"Actual\")\n",
    "plt.title(\"Confusion Matrix\")\n",
    "plt.show()\n",
    "clr = classification_report(y_test, y_pred, digits= 4) # create classification report\n",
    "print(\"Classification Report:\\n----------------------\\n\", clr)\n"
   ]
  },
  {
   "cell_type": "markdown",
   "id": "adbbcac3",
   "metadata": {},
   "source": [
    "# The below process is to predict the labels on the test dataset"
   ]
  },
  {
   "cell_type": "code",
   "execution_count": 51,
   "id": "98c39e37",
   "metadata": {},
   "outputs": [],
   "source": [
    "df_test = pd.read_csv(r\"Z:\\AAIT\\NLP\\tweeter/test.csv\")"
   ]
  },
  {
   "cell_type": "code",
   "execution_count": 52,
   "id": "6a5f904d",
   "metadata": {},
   "outputs": [
    {
     "data": {
      "text/html": [
       "<style type=\"text/css\">\n",
       "#T_baa1c_row0_col0 {\n",
       "  background-color: #f7fcf0;\n",
       "  color: #000000;\n",
       "}\n",
       "#T_baa1c_row1_col0 {\n",
       "  background-color: #2b8cbe;\n",
       "  color: #f1f1f1;\n",
       "}\n",
       "#T_baa1c_row2_col0 {\n",
       "  background-color: #42a6cc;\n",
       "  color: #f1f1f1;\n",
       "}\n",
       "#T_baa1c_row3_col0 {\n",
       "  background-color: #0e6eaf;\n",
       "  color: #f1f1f1;\n",
       "}\n",
       "#T_baa1c_row4_col0 {\n",
       "  background-color: #084081;\n",
       "  color: #f1f1f1;\n",
       "}\n",
       "#T_baa1c_row5_col0 {\n",
       "  background-color: #b3e1ba;\n",
       "  color: #000000;\n",
       "}\n",
       "#T_baa1c_row6_col0 {\n",
       "  background-color: #3294c2;\n",
       "  color: #f1f1f1;\n",
       "}\n",
       "#T_baa1c_row7_col0 {\n",
       "  background-color: #3da0c9;\n",
       "  color: #f1f1f1;\n",
       "}\n",
       "#T_baa1c_row8_col0 {\n",
       "  background-color: #1272b1;\n",
       "  color: #f1f1f1;\n",
       "}\n",
       "#T_baa1c_row9_col0 {\n",
       "  background-color: #c6e9c2;\n",
       "  color: #000000;\n",
       "}\n",
       "</style>\n",
       "<table id=\"T_baa1c_\">\n",
       "  <thead>\n",
       "    <tr>\n",
       "      <th class=\"blank level0\" >&nbsp;</th>\n",
       "      <th class=\"col_heading level0 col0\" >id</th>\n",
       "      <th class=\"col_heading level0 col1\" >tweet</th>\n",
       "    </tr>\n",
       "  </thead>\n",
       "  <tbody>\n",
       "    <tr>\n",
       "      <th id=\"T_baa1c_level0_row0\" class=\"row_heading level0 row0\" >3561</th>\n",
       "      <td id=\"T_baa1c_row0_col0\" class=\"data row0 col0\" >35524</td>\n",
       "      <td id=\"T_baa1c_row0_col1\" class=\"data row0 col1\" >all i have to do is submit my background check consent form, and i will have completed my application for my first guide dog ever.  </td>\n",
       "    </tr>\n",
       "    <tr>\n",
       "      <th id=\"T_baa1c_level0_row1\" class=\"row_heading level0 row1\" >11994</th>\n",
       "      <td id=\"T_baa1c_row1_col0\" class=\"data row1 col0\" >43957</td>\n",
       "      <td id=\"T_baa1c_row1_col1\" class=\"data row1 col1\" >looking to feel more #joy? join me and 20 speakers on the free summit #unleashyourjoy    </td>\n",
       "    </tr>\n",
       "    <tr>\n",
       "      <th id=\"T_baa1c_level0_row2\" class=\"row_heading level0 row2\" >11082</th>\n",
       "      <td id=\"T_baa1c_row2_col0\" class=\"data row2 col0\" >43045</td>\n",
       "      <td id=\"T_baa1c_row2_col1\" class=\"data row2 col1\" > @user #imissyou #quotes #qoute #him #hu   daily_lovedose </td>\n",
       "    </tr>\n",
       "    <tr>\n",
       "      <th id=\"T_baa1c_level0_row3\" class=\"row_heading level0 row3\" >13180</th>\n",
       "      <td id=\"T_baa1c_row3_col0\" class=\"data row3 col0\" >45143</td>\n",
       "      <td id=\"T_baa1c_row3_col1\" class=\"data row3 col1\" >ripsticking and listening to broadway musicals on this sunny day is about the best thing yet âï¸ðð  </td>\n",
       "    </tr>\n",
       "    <tr>\n",
       "      <th id=\"T_baa1c_level0_row4\" class=\"row_heading level0 row4\" >14831</th>\n",
       "      <td id=\"T_baa1c_row4_col0\" class=\"data row4 col0\" >46794</td>\n",
       "      <td id=\"T_baa1c_row4_col1\" class=\"data row4 col1\" >sorry, no seat for you ! #naikskuter  #vespa #cemburupunakutakberhak    #beyourself </td>\n",
       "    </tr>\n",
       "    <tr>\n",
       "      <th id=\"T_baa1c_level0_row5\" class=\"row_heading level0 row5\" >7385</th>\n",
       "      <td id=\"T_baa1c_row5_col0\" class=\"data row5 col0\" >39348</td>\n",
       "      <td id=\"T_baa1c_row5_col1\" class=\"data row5 col1\" >one of my besties is coming to visit me in dallas this weekend!  </td>\n",
       "    </tr>\n",
       "    <tr>\n",
       "      <th id=\"T_baa1c_level0_row6\" class=\"row_heading level0 row6\" >11749</th>\n",
       "      <td id=\"T_baa1c_row6_col0\" class=\"data row6 col0\" >43712</td>\n",
       "      <td id=\"T_baa1c_row6_col1\" class=\"data row6 col1\" >do not waste even a day without a smile..! #smile   #sun #everysmile #relax #collasso #ko </td>\n",
       "    </tr>\n",
       "    <tr>\n",
       "      <th id=\"T_baa1c_level0_row7\" class=\"row_heading level0 row7\" >11302</th>\n",
       "      <td id=\"T_baa1c_row7_col0\" class=\"data row7 col0\" >43265</td>\n",
       "      <td id=\"T_baa1c_row7_col1\" class=\"data row7 col1\" >finally ordered my prom dress ðð  </td>\n",
       "    </tr>\n",
       "    <tr>\n",
       "      <th id=\"T_baa1c_level0_row8\" class=\"row_heading level0 row8\" >13019</th>\n",
       "      <td id=\"T_baa1c_row8_col0\" class=\"data row8 col0\" >44982</td>\n",
       "      <td id=\"T_baa1c_row8_col1\" class=\"data row8 col1\" >the #japanese who rejoice new #war law are handful nationalist and  only #afp #guardian #nytimes #lemonde #reuters #independent #faz</td>\n",
       "    </tr>\n",
       "    <tr>\n",
       "      <th id=\"T_baa1c_level0_row9\" class=\"row_heading level0 row9\" >6616</th>\n",
       "      <td id=\"T_baa1c_row9_col0\" class=\"data row9 col0\" >38579</td>\n",
       "      <td id=\"T_baa1c_row9_col1\" class=\"data row9 col1\" >ordered koko k from @user today and i can't wait to get it!!!!!! so happyâ¤ #kokok #kyliejenner #love  </td>\n",
       "    </tr>\n",
       "  </tbody>\n",
       "</table>\n"
      ],
      "text/plain": [
       "<pandas.io.formats.style.Styler at 0x1a10cab6358>"
      ]
     },
     "execution_count": 52,
     "metadata": {},
     "output_type": "execute_result"
    }
   ],
   "source": [
    "df_test.sample(n = 10).style.background_gradient(cmap = \"GnBu\")"
   ]
  },
  {
   "cell_type": "code",
   "execution_count": 53,
   "id": "dbce9ce7",
   "metadata": {},
   "outputs": [
    {
     "name": "stdout",
     "output_type": "stream",
     "text": [
      "Letters are converted to lowecase, and punctuation marks, numbers and stopwords deleted succesfully\n"
     ]
    }
   ],
   "source": [
    "X_test_preprocessed = preprocess_text(df_test)"
   ]
  },
  {
   "cell_type": "code",
   "execution_count": 54,
   "id": "b8fb538b",
   "metadata": {
    "scrolled": true
   },
   "outputs": [
    {
     "data": {
      "text/html": [
       "<style type=\"text/css\">\n",
       "#T_0a08c_row0_col0 {\n",
       "  background-color: #dcf1d6;\n",
       "  color: #000000;\n",
       "}\n",
       "#T_0a08c_row1_col0 {\n",
       "  background-color: #084081;\n",
       "  color: #f1f1f1;\n",
       "}\n",
       "#T_0a08c_row2_col0 {\n",
       "  background-color: #b2e1b9;\n",
       "  color: #000000;\n",
       "}\n",
       "#T_0a08c_row3_col0 {\n",
       "  background-color: #d0ecc9;\n",
       "  color: #000000;\n",
       "}\n",
       "#T_0a08c_row4_col0 {\n",
       "  background-color: #d9f0d3;\n",
       "  color: #000000;\n",
       "}\n",
       "#T_0a08c_row5_col0 {\n",
       "  background-color: #3597c4;\n",
       "  color: #f1f1f1;\n",
       "}\n",
       "#T_0a08c_row6_col0 {\n",
       "  background-color: #f7fcf0;\n",
       "  color: #000000;\n",
       "}\n",
       "#T_0a08c_row7_col0 {\n",
       "  background-color: #c2e7c0;\n",
       "  color: #000000;\n",
       "}\n",
       "#T_0a08c_row8_col0 {\n",
       "  background-color: #e9f7e3;\n",
       "  color: #000000;\n",
       "}\n",
       "#T_0a08c_row9_col0 {\n",
       "  background-color: #e1f4dc;\n",
       "  color: #000000;\n",
       "}\n",
       "</style>\n",
       "<table id=\"T_0a08c_\">\n",
       "  <thead>\n",
       "    <tr>\n",
       "      <th class=\"blank level0\" >&nbsp;</th>\n",
       "      <th class=\"col_heading level0 col0\" >id</th>\n",
       "      <th class=\"col_heading level0 col1\" >tweet</th>\n",
       "    </tr>\n",
       "  </thead>\n",
       "  <tbody>\n",
       "    <tr>\n",
       "      <th id=\"T_0a08c_level0_row0\" class=\"row_heading level0 row0\" >2585</th>\n",
       "      <td id=\"T_0a08c_row0_col0\" class=\"data row0 col0\" >34548</td>\n",
       "      <td id=\"T_0a08c_row0_col1\" class=\"data row0 col1\" >time quite happy see like bittersweat know thatslife</td>\n",
       "    </tr>\n",
       "    <tr>\n",
       "      <th id=\"T_0a08c_level0_row1\" class=\"row_heading level0 row1\" >16347</th>\n",
       "      <td id=\"T_0a08c_row1_col0\" class=\"data row1 col0\" >48310</td>\n",
       "      <td id=\"T_0a08c_row1_col1\" class=\"data row1 col1\" >selfie lovely necklace â selfie smile love necklace day instahappyâ</td>\n",
       "    </tr>\n",
       "    <tr>\n",
       "      <th id=\"T_0a08c_level0_row2\" class=\"row_heading level0 row2\" >5648</th>\n",
       "      <td id=\"T_0a08c_row2_col0\" class=\"data row2 col0\" >37611</td>\n",
       "      <td id=\"T_0a08c_row2_col1\" class=\"data row2 col1\" >digitala gorilla simulator need adapt environment need tear city mate</td>\n",
       "    </tr>\n",
       "    <tr>\n",
       "      <th id=\"T_0a08c_level0_row3\" class=\"row_heading level0 row3\" >3813</th>\n",
       "      <td id=\"T_0a08c_row3_col0\" class=\"data row3 col0\" >35776</td>\n",
       "      <td id=\"T_0a08c_row3_col1\" class=\"data row3 col1\" >dr joan buccigrossi kicking morning corporate panel leadingtheway wepanforum user</td>\n",
       "    </tr>\n",
       "    <tr>\n",
       "      <th id=\"T_0a08c_level0_row4\" class=\"row_heading level0 row4\" >2862</th>\n",
       "      <td id=\"T_0a08c_row4_col0\" class=\"data row4 col0\" >34825</td>\n",
       "      <td id=\"T_0a08c_row4_col1\" class=\"data row4 col1\" >user ice storm tree branch knocked scary</td>\n",
       "    </tr>\n",
       "    <tr>\n",
       "      <th id=\"T_0a08c_level0_row5\" class=\"row_heading level0 row5\" >11667</th>\n",
       "      <td id=\"T_0a08c_row5_col0\" class=\"data row5 col0\" >43630</td>\n",
       "      <td id=\"T_0a08c_row5_col1\" class=\"data row5 col1\" >stone sandðððâïð step buddy nice vscom vscogood</td>\n",
       "    </tr>\n",
       "    <tr>\n",
       "      <th id=\"T_0a08c_level0_row6\" class=\"row_heading level0 row6\" >65</th>\n",
       "      <td id=\"T_0a08c_row6_col0\" class=\"data row6 col0\" >32028</td>\n",
       "      <td id=\"T_0a08c_row6_col1\" class=\"data row6 col1\" >believe r willingness try understand encourage amp inspire others b amp grow greater spiritual purpose grok</td>\n",
       "    </tr>\n",
       "    <tr>\n",
       "      <th id=\"T_0a08c_level0_row7\" class=\"row_heading level0 row7\" >4759</th>\n",
       "      <td id=\"T_0a08c_row7_col0\" class=\"data row7 col0\" >36722</td>\n",
       "      <td id=\"T_0a08c_row7_col1\" class=\"data row7 col1\" >today became adult bought le creuset pan amp vileda magic mop also couldnt happier</td>\n",
       "    </tr>\n",
       "    <tr>\n",
       "      <th id=\"T_0a08c_level0_row8\" class=\"row_heading level0 row8\" >1335</th>\n",
       "      <td id=\"T_0a08c_row8_col0\" class=\"data row8 col0\" >33298</td>\n",
       "      <td id=\"T_0a08c_row8_col1\" class=\"data row8 col1\" >user feminismiscancer feminismisterrorism feminismmuktbharat malevote ignored user</td>\n",
       "    </tr>\n",
       "    <tr>\n",
       "      <th id=\"T_0a08c_level0_row9\" class=\"row_heading level0 row9\" >1997</th>\n",
       "      <td id=\"T_0a08c_row9_col0\" class=\"data row9 col0\" >33960</td>\n",
       "      <td id=\"T_0a08c_row9_col1\" class=\"data row9 col1\" >model love u take u time urð ðððð ððð</td>\n",
       "    </tr>\n",
       "  </tbody>\n",
       "</table>\n"
      ],
      "text/plain": [
       "<pandas.io.formats.style.Styler at 0x1a11abd1048>"
      ]
     },
     "execution_count": 54,
     "metadata": {},
     "output_type": "execute_result"
    }
   ],
   "source": [
    "X_test_preprocessed.sample(n = 10).style.background_gradient(cmap = \"GnBu\")"
   ]
  },
  {
   "cell_type": "code",
   "execution_count": 55,
   "id": "ce0acf33",
   "metadata": {},
   "outputs": [],
   "source": [
    "x_test = X_test_preprocessed[\"tweet\"]"
   ]
  },
  {
   "cell_type": "code",
   "execution_count": 60,
   "id": "983b0e4b",
   "metadata": {},
   "outputs": [
    {
     "data": {
      "text/plain": [
       "0        studiolife aislife requires passion dedication...\n",
       "1        user white supremacist want everyone see new â...\n",
       "2         safe way heal acne altwaystoheal healthy healing\n",
       "3        hp cursed child book reservation already yes ð...\n",
       "4        rd bihday amazing hilarious nephew eli ahmir u...\n",
       "                               ...                        \n",
       "17192    thought factory leftright polarisation trump u...\n",
       "17193    feeling like mermaid ð hairflip neverready for...\n",
       "17194    hillary campaigned today ohioomg amp used word...\n",
       "17195    happy work conference right mindset lead cultu...\n",
       "17196    song glad free download shoegaze newmusic newsong\n",
       "Name: tweet, Length: 17197, dtype: object"
      ]
     },
     "execution_count": 60,
     "metadata": {},
     "output_type": "execute_result"
    }
   ],
   "source": [
    "x_test"
   ]
  },
  {
   "cell_type": "code",
   "execution_count": 61,
   "id": "fd174b4c",
   "metadata": {},
   "outputs": [
    {
     "name": "stdout",
     "output_type": "stream",
     "text": [
      "538/538 [==============================] - 23s 42ms/step\n"
     ]
    }
   ],
   "source": [
    "# Tokenize and pad the test data\n",
    "X_test_sequences = tokenizer.texts_to_sequences(x_test)\n",
    "X_test_padded = pad_sequences(X_test_sequences, maxlen=max_tweet_length)\n",
    "\n",
    "# Predict the labels\n",
    "y_test_pred_prob = model.predict(X_test_padded)\n",
    "y_test_pred = (y_test_pred_prob > 0.5).astype(int)"
   ]
  },
  {
   "cell_type": "code",
   "execution_count": 62,
   "id": "f22612ce",
   "metadata": {},
   "outputs": [
    {
     "name": "stdout",
     "output_type": "stream",
     "text": [
      "Pridicted labels are\n",
      " [[0]\n",
      " [1]\n",
      " [0]\n",
      " ...\n",
      " [0]\n",
      " [0]\n",
      " [0]]\n"
     ]
    }
   ],
   "source": [
    "print(\"Pridicted labels are\\n\", y_test_pred)"
   ]
  },
  {
   "cell_type": "code",
   "execution_count": null,
   "id": "939f5497",
   "metadata": {},
   "outputs": [],
   "source": []
  }
 ],
 "metadata": {
  "kernelspec": {
   "display_name": "Python 3 (ipykernel)",
   "language": "python",
   "name": "python3"
  },
  "language_info": {
   "codemirror_mode": {
    "name": "ipython",
    "version": 3
   },
   "file_extension": ".py",
   "mimetype": "text/x-python",
   "name": "python",
   "nbconvert_exporter": "python",
   "pygments_lexer": "ipython3",
   "version": "3.7.3"
  }
 },
 "nbformat": 4,
 "nbformat_minor": 5
}
